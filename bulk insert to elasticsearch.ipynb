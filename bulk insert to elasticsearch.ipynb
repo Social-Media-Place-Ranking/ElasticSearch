{
 "cells": [
  {
   "cell_type": "code",
   "execution_count": 1,
   "metadata": {},
   "outputs": [],
   "source": [
    "# import some libraries\n",
    "import json\n",
    "import uuid \n",
    "from elasticsearch import helpers\n",
    "from elasticsearch import Elasticsearch"
   ]
  },
  {
   "cell_type": "markdown",
   "metadata": {},
   "source": [
    "## read the josn file"
   ]
  },
  {
   "cell_type": "code",
   "execution_count": 2,
   "metadata": {},
   "outputs": [],
   "source": [
    "# read the places data to insert them to elasticsearch\n",
    "with open(\"/Users/emadarmiti/Desktop/cap-s5/places_ranking/osm_data/test.json\", 'r') as data_file:\n",
    "    data = json.load(data_file)"
   ]
  },
  {
   "cell_type": "markdown",
   "metadata": {},
   "source": [
    "### slice the data"
   ]
  },
  {
   "cell_type": "code",
   "execution_count": 6,
   "metadata": {},
   "outputs": [
    {
     "data": {
      "text/plain": [
       "[{'id': '3',\n",
       "  'type': 'Feature',\n",
       "  'properties': {'name': 'Kibler Park'},\n",
       "  'geometry': {'type': 'Point', 'coordinates': [-78.6723302, 43.1655945]}},\n",
       " {'id': '4',\n",
       "  'type': 'Feature',\n",
       "  'properties': {'name': 'Inn By The Park'},\n",
       "  'geometry': {'type': 'Point', 'coordinates': [-75.1791306, 44.8968001]}},\n",
       " {'id': '5',\n",
       "  'type': 'Feature',\n",
       "  'properties': {'name': 'Northwood Elementary School'},\n",
       "  'geometry': {'type': 'Point', 'coordinates': [-78.7428759, 42.863407]}}]"
      ]
     },
     "execution_count": 6,
     "metadata": {},
     "output_type": "execute_result"
    }
   ],
   "source": [
    "# general look at the first 3 places\n",
    "data['features'][:3]"
   ]
  },
  {
   "cell_type": "code",
   "execution_count": 4,
   "metadata": {},
   "outputs": [],
   "source": [
    "# slice the places data, the original dict has many keys, we just take the places data list\n",
    "data = data['features']"
   ]
  },
  {
   "cell_type": "code",
   "execution_count": 6,
   "metadata": {},
   "outputs": [],
   "source": [
    "# define the data which is ready to insert to elastic search\n",
    "data_elasticsearch = []\n",
    "\n",
    "# go over each place slice the name and the location\n",
    "for place in data:\n",
    "    \n",
    "    # dfine the place dict\n",
    "    place_info = {}\n",
    "    \n",
    "    # add the place name to the dict\n",
    "    place_info['name'] = place['properties']['name']\n",
    "    \n",
    "    # add the location to the dict, lat and lon\n",
    "    place_info[\"location\"]={'lat':place['geometry']['coordinates'][1],\n",
    "                             'lon':place['geometry']['coordinates'][0]}\n",
    "    \n",
    "    # append the current place info to the list\n",
    "    data_elasticsearch.append(place_info)"
   ]
  },
  {
   "cell_type": "markdown",
   "metadata": {},
   "source": [
    "### conect to the elasticsearch on the cloud"
   ]
  },
  {
   "cell_type": "code",
   "execution_count": 7,
   "metadata": {},
   "outputs": [],
   "source": [
    "# connect to the elasticsearch endpoint.  \n",
    "elastc_seach = Elasticsearch(\"elasticsearch end point\"\n",
    "                            ,http_auth=('name', 'pass'))\n",
    "\n",
    "# define the index name\n",
    "index_name = \"places\""
   ]
  },
  {
   "cell_type": "markdown",
   "metadata": {},
   "source": [
    "### create the indeax"
   ]
  },
  {
   "cell_type": "code",
   "execution_count": 8,
   "metadata": {},
   "outputs": [
    {
     "data": {
      "text/plain": [
       "{'acknowledged': True, 'shards_acknowledged': True, 'index': 'places'}"
      ]
     },
     "execution_count": 8,
     "metadata": {},
     "output_type": "execute_result"
    }
   ],
   "source": [
    "# define the mapping (settings of the index)\n",
    "settings = {\n",
    "  \"mappings\": {\n",
    "        \"dynamic\": \"strict\", # cannot add extra fields \n",
    "        \"properties\": { # the properites of the fields\n",
    "          \"name\": {\"type\": \"text\"}, # the type of the field name\n",
    "          \"location\": {\"type\": \"geo_point\"}} # the type of the field location\n",
    "        }\n",
    "      }\n",
    "\n",
    "# create the index  \n",
    "elastc_seach.indices.create(index = index_name, ignore = 400, body = settings)"
   ]
  },
  {
   "cell_type": "markdown",
   "metadata": {},
   "source": [
    "### add meta data to data and bulk insertion to elasticsearch\n"
   ]
  },
  {
   "cell_type": "code",
   "execution_count": 9,
   "metadata": {},
   "outputs": [
    {
     "data": {
      "text/plain": [
       "(44467, [])"
      ]
     },
     "execution_count": 9,
     "metadata": {},
     "output_type": "execute_result"
    }
   ],
   "source": [
    "# this list contains the places data including the bulk insertion meta data\n",
    "actions = []\n",
    "\n",
    "# go over each place and add the meta data\n",
    "for place in data_elasticsearch:    \n",
    "    \n",
    "    # create a new dict that contains the place data and the meta data\n",
    "    place_meta = { '_op_type': 'index',\n",
    "                   '_index': index_name, # add the index name\n",
    "                   '_type': '_doc', # the type of passed data\n",
    "                   '_id': uuid.uuid1(), # add rendom id\n",
    "                   '_source': place} # pass the data\n",
    "\n",
    "    # append the place with meta dict to the actions list\n",
    "    actions.append(place_meta)\n",
    "\n",
    "# bulk insertion for the actions list\n",
    "helpers.bulk(es, actions)"
   ]
  }
 ],
 "metadata": {
  "kernelspec": {
   "display_name": "Python 3",
   "language": "python",
   "name": "python3"
  },
  "language_info": {
   "codemirror_mode": {
    "name": "ipython",
    "version": 3
   },
   "file_extension": ".py",
   "mimetype": "text/x-python",
   "name": "python",
   "nbconvert_exporter": "python",
   "pygments_lexer": "ipython3",
   "version": "3.8.2"
  }
 },
 "nbformat": 4,
 "nbformat_minor": 4
}
