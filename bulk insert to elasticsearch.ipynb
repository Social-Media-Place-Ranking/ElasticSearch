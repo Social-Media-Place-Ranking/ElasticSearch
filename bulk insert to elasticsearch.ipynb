{
 "cells": [
  {
   "cell_type": "code",
   "execution_count": 1,
   "metadata": {},
   "outputs": [],
   "source": [
    "import json\n",
    "import uuid \n",
    "from elasticsearch import helpers\n",
    "from elasticsearch import Elasticsearch"
   ]
  },
  {
   "cell_type": "markdown",
   "metadata": {},
   "source": [
    "## read the josn file"
   ]
  },
  {
   "cell_type": "code",
   "execution_count": 3,
   "metadata": {},
   "outputs": [],
   "source": [
    "with open(\"the json file path\", 'r') as data_file:\n",
    "    data = json.load(data_file)"
   ]
  },
  {
   "cell_type": "markdown",
   "metadata": {},
   "source": [
    "### slice the data"
   ]
  },
  {
   "cell_type": "code",
   "execution_count": 4,
   "metadata": {},
   "outputs": [],
   "source": [
    "data  = data['features']"
   ]
  },
  {
   "cell_type": "code",
   "execution_count": 5,
   "metadata": {},
   "outputs": [],
   "source": [
    "data_elasticsearch = []"
   ]
  },
  {
   "cell_type": "code",
   "execution_count": 6,
   "metadata": {},
   "outputs": [],
   "source": [
    "for i in data:\n",
    "    temp = {}\n",
    "    \n",
    "    temp['name'] = i['properties']['name']\n",
    "    temp[\"location\"]={'lat':i['geometry']['coordinates'][1],\n",
    "                     'lon':i['geometry']['coordinates'][0]}\n",
    "    data_elasticsearch.append(temp)"
   ]
  },
  {
   "cell_type": "markdown",
   "metadata": {},
   "source": [
    "### conect to the elasticsearch on the cloud"
   ]
  },
  {
   "cell_type": "code",
   "execution_count": 12,
   "metadata": {},
   "outputs": [],
   "source": [
    "es = Elasticsearch(\"https://06d4ec43aa3e4460b5239afae619b838.us-central1.gcp.cloud.es.io:9243/\"\n",
    "                   ,http_auth=('name', 'pass'))\n",
    "\n",
    "index_name = \"places\""
   ]
  },
  {
   "cell_type": "markdown",
   "metadata": {},
   "source": [
    "### create the indeax"
   ]
  },
  {
   "cell_type": "code",
   "execution_count": 13,
   "metadata": {},
   "outputs": [
    {
     "data": {
      "text/plain": [
       "{'acknowledged': True, 'shards_acknowledged': True, 'index': 'places'}"
      ]
     },
     "execution_count": 13,
     "metadata": {},
     "output_type": "execute_result"
    }
   ],
   "source": [
    "if es.indices.exists(index_name):\n",
    "    es.indices.delete(index=index_name)\n",
    "    \n",
    "settings = {\n",
    "  \"mappings\": {\n",
    "        \"dynamic\": \"strict\",\n",
    "        \"properties\": {\n",
    "          \"name\": {\"type\": \"text\"},\n",
    "          \"location\": {\"type\": \"geo_point\"}}\n",
    "        }\n",
    "      }\n",
    "\n",
    "\n",
    "\n",
    "    \n",
    "es.indices.create(index=index_name, ignore=400, body=settings)"
   ]
  },
  {
   "cell_type": "markdown",
   "metadata": {},
   "source": [
    "### add meta data to data and bulk insertion to elasticsearch\n"
   ]
  },
  {
   "cell_type": "code",
   "execution_count": 14,
   "metadata": {},
   "outputs": [
    {
     "data": {
      "text/plain": [
       "(44467, [])"
      ]
     },
     "execution_count": 14,
     "metadata": {},
     "output_type": "execute_result"
    }
   ],
   "source": [
    "actions = []\n",
    "  \n",
    "for json_row in data_elasticsearch:\n",
    "    \n",
    " \n",
    "        \n",
    "        \n",
    "    doc = { '_op_type': 'index',\n",
    "            '_index': index_name,\n",
    "            '_type': '_doc',\n",
    "            '_id': uuid.uuid1(),\n",
    "            '_source': json_row}\n",
    "\n",
    "    actions.append(doc)\n",
    "   \n",
    "helpers.bulk(es, actions)\n",
    "       \n",
    "      \n"
   ]
  }
 ],
 "metadata": {
  "kernelspec": {
   "display_name": "Python 3",
   "language": "python",
   "name": "python3"
  },
  "language_info": {
   "codemirror_mode": {
    "name": "ipython",
    "version": 3
   },
   "file_extension": ".py",
   "mimetype": "text/x-python",
   "name": "python",
   "nbconvert_exporter": "python",
   "pygments_lexer": "ipython3",
   "version": "3.8.2"
  }
 },
 "nbformat": 4,
 "nbformat_minor": 4
}
